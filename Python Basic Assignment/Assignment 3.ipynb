{
 "cells": [
  {
   "cell_type": "markdown",
   "metadata": {},
   "source": [
    "# Ans 1\n"
   ]
  },
  {
   "cell_type": "raw",
   "metadata": {},
   "source": [
    "Advantages of having functions:\n",
    "\n",
    "1) Reduce the reusability of code\n",
    "2) Modular programming\n",
    "3) Increases redability of the program\n",
    "4) Tracking of code become easier"
   ]
  },
  {
   "cell_type": "markdown",
   "metadata": {},
   "source": [
    "# Ans 2"
   ]
  },
  {
   "cell_type": "raw",
   "metadata": {},
   "source": [
    "Code in the function runs when it is called"
   ]
  },
  {
   "cell_type": "markdown",
   "metadata": {},
   "source": [
    "\n",
    "# Ans 3"
   ]
  },
  {
   "cell_type": "raw",
   "metadata": {},
   "source": [
    "When we have to create the function we have to write def before the function name.\n",
    "Eg: def function_name():\n",
    "        pass"
   ]
  },
  {
   "cell_type": "markdown",
   "metadata": {},
   "source": [
    "# Ans 4"
   ]
  },
  {
   "cell_type": "raw",
   "metadata": {},
   "source": [
    "#FUNCTION\n",
    "def function_name():\n",
    "        pass\n",
    "\n",
    "function_name() #function call"
   ]
  },
  {
   "cell_type": "markdown",
   "metadata": {},
   "source": [
    "# Ans 5"
   ]
  },
  {
   "cell_type": "raw",
   "metadata": {},
   "source": [
    "There is only 1 GLOBAL scope in the python program and it remains till the program is not terminated, on the other hand there are 3 local scope inside the function local,global,built_in."
   ]
  },
  {
   "cell_type": "markdown",
   "metadata": {},
   "source": [
    "# Ans 6"
   ]
  },
  {
   "cell_type": "raw",
   "metadata": {},
   "source": [
    "Variable in the local scope are destroyed as soon as work of funtion is completed."
   ]
  },
  {
   "cell_type": "markdown",
   "metadata": {},
   "source": [
    "# Ans 7"
   ]
  },
  {
   "cell_type": "raw",
   "metadata": {},
   "source": [
    "In function we can return value as per the need of the program, Yes its possible to hav ereturn value in an expression."
   ]
  },
  {
   "cell_type": "markdown",
   "metadata": {},
   "source": [
    "# Ans 8"
   ]
  },
  {
   "cell_type": "raw",
   "metadata": {},
   "source": [
    "If the funtion does not have a return statement it will not return anything."
   ]
  },
  {
   "cell_type": "markdown",
   "metadata": {},
   "source": [
    "# Ans 9"
   ]
  },
  {
   "cell_type": "raw",
   "metadata": {},
   "source": [
    "To make function variable as a global variable use GLOBAL keyword before the variable name.\n",
    "Eg:\n",
    "a = 15\n",
    "def fun():\n",
    "    global a\n",
    "    a+=5 \n",
    "    print(\"Value of x inside a function :\", x)\n",
    "fun()\n",
    "print(\"Value of x outside a function :\", x)"
   ]
  },
  {
   "cell_type": "markdown",
   "metadata": {},
   "source": [
    "# Ans 10"
   ]
  },
  {
   "cell_type": "raw",
   "metadata": {},
   "source": [
    "Datatype of None is NONETYPE"
   ]
  },
  {
   "cell_type": "markdown",
   "metadata": {},
   "source": [
    "# Ans 11"
   ]
  },
  {
   "cell_type": "raw",
   "metadata": {},
   "source": [
    "import areallyourpetsnamederic will import the areallyourpetsnamederic in thar particular program and we can us the functions defined inside areallyourpetsnamederic module"
   ]
  },
  {
   "cell_type": "markdown",
   "metadata": {},
   "source": [
    "# Ans 12"
   ]
  },
  {
   "cell_type": "raw",
   "metadata": {},
   "source": [
    "import spam\n",
    "spam.bacon()"
   ]
  },
  {
   "cell_type": "markdown",
   "metadata": {},
   "source": [
    "# Ans 13 "
   ]
  },
  {
   "cell_type": "raw",
   "metadata": {},
   "source": [
    "We can use try except to save a program from crashing."
   ]
  },
  {
   "cell_type": "markdown",
   "metadata": {},
   "source": [
    "# Ans 14"
   ]
  },
  {
   "cell_type": "raw",
   "metadata": {},
   "source": [
    "If there is any error in the code and if the code is inside the try block it will automatically come ouside the try block as soon as it find the error in the particular line and will not execute after that line and will fall inside the except block and do the further processing. "
   ]
  },
  {
   "cell_type": "code",
   "execution_count": null,
   "metadata": {},
   "outputs": [],
   "source": []
  }
 ],
 "metadata": {
  "kernelspec": {
   "display_name": "Python 3",
   "language": "python",
   "name": "python3"
  },
  "language_info": {
   "codemirror_mode": {
    "name": "ipython",
    "version": 3
   },
   "file_extension": ".py",
   "mimetype": "text/x-python",
   "name": "python",
   "nbconvert_exporter": "python",
   "pygments_lexer": "ipython3",
   "version": "3.8.5"
  }
 },
 "nbformat": 4,
 "nbformat_minor": 4
}
